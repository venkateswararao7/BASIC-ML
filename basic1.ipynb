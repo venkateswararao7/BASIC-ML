{
  "nbformat": 4,
  "nbformat_minor": 0,
  "metadata": {
    "colab": {
      "name": "Sumofn.ipynb",
      "provenance": [],
      "authorship_tag": "ABX9TyOQf0kXRg3BGtw4klFAh/u/",
      "include_colab_link": true
    },
    "kernelspec": {
      "name": "python3",
      "display_name": "Python 3"
    },
    "language_info": {
      "name": "python"
    }
  },
  "cells": [
    {
      "cell_type": "markdown",
      "metadata": {
        "id": "view-in-github",
        "colab_type": "text"
      },
      "source": [
        "<a href=\"https://colab.research.google.com/github/venkateswararao7/BASIC-ML/blob/main/basic1.ipynb\" target=\"_parent\"><img src=\"https://colab.research.google.com/assets/colab-badge.svg\" alt=\"Open In Colab\"/></a>"
      ]
    },
    {
      "cell_type": "code",
      "metadata": {
        "colab": {
          "base_uri": "https://localhost:8080/"
        },
        "id": "wY6zGUIFqTw2",
        "outputId": "43c8cb82-d436-401c-dbab-55183735618d"
      },
      "source": [
        "n=int(input())\n",
        "a=int(input())\n",
        "mult=1\n",
        "for i in range(1,n+1):\n",
        "   mult=i*a\n",
        "   print (i,\"*\",a,\"=\",mult)"
      ],
      "execution_count": 14,
      "outputs": [
        {
          "output_type": "stream",
          "text": [
            "20\n",
            "5\n",
            "1 * 5 = 5\n",
            "2 * 5 = 10\n",
            "3 * 5 = 15\n",
            "4 * 5 = 20\n",
            "5 * 5 = 25\n",
            "6 * 5 = 30\n",
            "7 * 5 = 35\n",
            "8 * 5 = 40\n",
            "9 * 5 = 45\n",
            "10 * 5 = 50\n",
            "11 * 5 = 55\n",
            "12 * 5 = 60\n",
            "13 * 5 = 65\n",
            "14 * 5 = 70\n",
            "15 * 5 = 75\n",
            "16 * 5 = 80\n",
            "17 * 5 = 85\n",
            "18 * 5 = 90\n",
            "19 * 5 = 95\n",
            "20 * 5 = 100\n"
          ],
          "name": "stdout"
        }
      ]
    },
    {
      "cell_type": "code",
      "metadata": {
        "colab": {
          "base_uri": "https://localhost:8080/"
        },
        "id": "RhMcFrkbv7xv",
        "outputId": "6c443f90-0867-4f42-b236-117ed21a52f7"
      },
      "source": [
        "for i in range(1,6):\n",
        "   for k in range(5-i):\n",
        "      print (\" \",end=\"\")\n",
        "   for j in range(1,i+1):\n",
        "      print (i,end=\" \" )\n",
        "   print (\"\")"
      ],
      "execution_count": 23,
      "outputs": [
        {
          "output_type": "stream",
          "text": [
            "    1 \n",
            "   2 2 \n",
            "  3 3 3 \n",
            " 4 4 4 4 \n",
            "5 5 5 5 5 \n"
          ],
          "name": "stdout"
        }
      ]
    },
    {
      "cell_type": "code",
      "metadata": {
        "colab": {
          "base_uri": "https://localhost:8080/"
        },
        "id": "GZuXsxFxoPtH",
        "outputId": "8580b8fa-40da-414d-bd38-fa325f65ae94"
      },
      "source": [
        "n=int(input())\n",
        "sum=0\n",
        "for a in range(1,n+1):\n",
        "   sum+=a\n",
        "print(sum)"
      ],
      "execution_count": 8,
      "outputs": [
        {
          "output_type": "stream",
          "text": [
            "10\n",
            "55\n"
          ],
          "name": "stdout"
        }
      ]
    },
    {
      "cell_type": "code",
      "metadata": {
        "colab": {
          "base_uri": "https://localhost:8080/"
        },
        "id": "eiYtSD2Pxu8M",
        "outputId": "1d96d94f-21cd-4fcd-af02-d785aa7f3033"
      },
      "source": [
        "n=int(input())\n",
        "mult=1\n",
        "for i in range(1,n+1):\n",
        "   mult=mult*i\n",
        "print(mult)"
      ],
      "execution_count": 25,
      "outputs": [
        {
          "output_type": "stream",
          "text": [
            "5\n",
            "120\n"
          ],
          "name": "stdout"
        }
      ]
    }
  ]
}